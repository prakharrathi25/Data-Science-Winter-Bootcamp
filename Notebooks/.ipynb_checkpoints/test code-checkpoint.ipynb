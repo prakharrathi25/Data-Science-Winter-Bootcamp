{
 "cells": [
  {
   "cell_type": "code",
   "execution_count": 5,
   "id": "ce220776",
   "metadata": {},
   "outputs": [],
   "source": [
    "import numpy as np\n",
    "import matplotlib.pyplot as plt\n",
    "from matplotlib import cm\n",
    "%matplotlib inline"
   ]
  },
  {
   "cell_type": "code",
   "execution_count": 14,
   "id": "ae972630",
   "metadata": {},
   "outputs": [],
   "source": [
    "# Line to change text size\n",
    "plt.rcParams.update({'font.size': 2})"
   ]
  },
  {
   "cell_type": "code",
   "execution_count": null,
   "id": "a32f57bb",
   "metadata": {},
   "outputs": [
    {
     "name": "stdout",
     "output_type": "stream",
     "text": [
      "[[0. 0. 0. ... 0. 0. 0.]\n",
      " [0. 0. 0. ... 0. 0. 0.]\n",
      " [0. 0. 0. ... 0. 0. 0.]\n",
      " ...\n",
      " [0. 0. 0. ... 0. 0. 0.]\n",
      " [0. 0. 0. ... 0. 0. 0.]\n",
      " [0. 0. 0. ... 0. 0. 0.]]\n"
     ]
    }
   ],
   "source": [
    "r = 0.5\n",
    "K = 50\n",
    "D = 1.5\n",
    "\n",
    "size = 101  # size of the 2D grid\n",
    "dx = 1  # space step\n",
    "\n",
    "T = 27.0  # total time\n",
    "\n",
    "#T = 20.0\n",
    "\n",
    "dt = .001  # time step\n",
    "n = int(T / dt)  # number of iterations\n",
    "\n",
    "#N = np.random.rand(size, size)\n",
    "\n",
    "N = np.zeros((size, size))\n",
    "\n",
    "#initizlizing center as 1 for introductory invasive specie\n",
    "N[50, 50] = 100\n",
    "\n",
    "print(N)\n",
    "\n",
    "def laplacian(Z):\n",
    "    Ztop = Z[0:-2, 1:-1]\n",
    "    Zleft = Z[1:-1, 0:-2]\n",
    "    Zbottom = Z[2:, 1:-1]\n",
    "    Zright = Z[1:-1, 2:]\n",
    "    Zcenter = Z[1:-1, 1:-1]\n",
    "    return (Ztop + Zleft + Zbottom + Zright -\n",
    "            4 * Zcenter) / dx**2\n",
    "\n",
    "def show_patterns(U, ax=None):\n",
    "    ax.imshow(U, cmap=plt.cm.RdYlGn, vmin = 0, vmax = 1,\n",
    "              interpolation='bilinear',\n",
    "              extent=[-1, 1, -1, 1])\n",
    "    fig.colorbar(cm.ScalarMappable(cmap=plt.cm.RdYlGn), ax=ax)\n",
    "#     fig.colorbar(c, ax = ax)\n",
    "#     color_map.set_cmap(\"Blues_r\")\n",
    "#     plt.colorbar()\n",
    "    ax.set_axis_off() #cmap=cm.RdYlGn\n",
    "\n",
    "fig, axes = plt.subplots(3, 9, figsize=(10, 10))\n",
    "growth_array = []\n",
    "step_plot = n // 27\n",
    "print(step_plot)\n",
    "# We simulate the PDE with the finite difference\n",
    "# method.\n",
    "for i in range(n):\n",
    "    # We compute the Laplacian of u and v.\n",
    "    deltaN = laplacian(N)\n",
    "    \n",
    "    #print(deltaN)\n",
    "    \n",
    "    # We take the values of u and v inside the grid.\n",
    "    Nc = N[1:-1, 1:-1]\n",
    "    \n",
    "    \n",
    "    # We update the variables.\n",
    "    N[1:-1, 1:-1] = Nc + D*dt*(deltaN) + r*Nc*dt*(1 - Nc/K)\n",
    "    \n",
    "    S = 0\n",
    "    for j in range(size):\n",
    "        for k in range(size):\n",
    "            S += N[j,k]\n",
    "            \n",
    "    print(S)\n",
    "    \n",
    "    \n",
    "    # Neumann conditions: derivatives at the edges\n",
    "    # are null.\n",
    "    \n",
    "    N[0, :] = N[1, :]\n",
    "    N[-1, :] = N[-2, :]\n",
    "    N[:, 0] = N[:, 1]\n",
    "    N[:, -1] = N[:, -2]\n",
    "    \n",
    "    #N[15,15] = 100 #continuous source\n",
    "    \n",
    "\n",
    "    # We plot the state of the system at\n",
    "    # 9 different times.\n",
    "    if i % step_plot == 0 and i < 27 * step_plot:\n",
    "        ax = axes.flat[i // step_plot]\n",
    "        c = show_patterns(N, ax=ax)\n",
    "        #c = show_patterns(N, ax=ax)\n",
    "#         fig.colorbar(show_patterns)\n",
    "        #fig.colorbar(cm.ScalarMappable(norm=norm, cmap=cmap), ax=ax)\n",
    "        #plt.colorbar(label=\"Like/Dislike Ratio\", orientation=\"horizontal\")\n",
    "        #fig.colorbar(c)\n",
    "        ax.set_title(f'$t={i * dt:.2f}$')\n",
    "        \n",
    "    growth_array.append(S)\n",
    "print(growth_array)"
   ]
  },
  {
   "cell_type": "code",
   "execution_count": null,
   "id": "3fcb9113",
   "metadata": {},
   "outputs": [],
   "source": [
    "fig, axes = plt.subplots(3, 9, figsize=(10, 10))\n",
    "step_plot = n // 27\n",
    "print(step_plot)"
   ]
  },
  {
   "cell_type": "code",
   "execution_count": null,
   "id": "90b3ed5f",
   "metadata": {},
   "outputs": [],
   "source": []
  }
 ],
 "metadata": {
  "kernelspec": {
   "display_name": "Python 3",
   "language": "python",
   "name": "python3"
  },
  "language_info": {
   "codemirror_mode": {
    "name": "ipython",
    "version": 3
   },
   "file_extension": ".py",
   "mimetype": "text/x-python",
   "name": "python",
   "nbconvert_exporter": "python",
   "pygments_lexer": "ipython3",
   "version": "3.8.8"
  }
 },
 "nbformat": 4,
 "nbformat_minor": 5
}
